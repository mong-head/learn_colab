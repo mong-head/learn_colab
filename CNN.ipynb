{
  "nbformat": 4,
  "nbformat_minor": 0,
  "metadata": {
    "colab": {
      "name": "CNN.ipynb",
      "provenance": [],
      "collapsed_sections": [],
      "toc_visible": true,
      "include_colab_link": true
    },
    "kernelspec": {
      "name": "python3",
      "display_name": "Python 3"
    },
    "accelerator": "GPU"
  },
  "cells": [
    {
      "cell_type": "markdown",
      "metadata": {
        "id": "view-in-github",
        "colab_type": "text"
      },
      "source": [
        "<a href=\"https://colab.research.google.com/github/mong-head/learn_colab/blob/master/CNN.ipynb\" target=\"_parent\"><img src=\"https://colab.research.google.com/assets/colab-badge.svg\" alt=\"Open In Colab\"/></a>"
      ]
    },
    {
      "cell_type": "code",
      "metadata": {
        "id": "M5MkLRcSwcqH",
        "outputId": "0f637739-0e9e-4371-b954-c105afda5a60",
        "colab": {
          "base_uri": "https://localhost:8080/",
          "height": 34
        }
      },
      "source": [
        "from google.colab import drive\n",
        "drive.mount('/content/drive')"
      ],
      "execution_count": null,
      "outputs": [
        {
          "output_type": "stream",
          "text": [
            "Drive already mounted at /content/drive; to attempt to forcibly remount, call drive.mount(\"/content/drive\", force_remount=True).\n"
          ],
          "name": "stdout"
        }
      ]
    },
    {
      "cell_type": "code",
      "metadata": {
        "id": "zOxuFsOC1PV9"
      },
      "source": [
        "import os\n",
        "import pandas as pd\n",
        "import numpy as np\n",
        "import matplotlib.pyplot as plt\n",
        "import csv\n",
        "\n",
        "from pandas import Series, DataFrame"
      ],
      "execution_count": null,
      "outputs": []
    },
    {
      "cell_type": "markdown",
      "metadata": {
        "id": "V3zYmVIvFiMd"
      },
      "source": [
        "# * data 처리"
      ]
    },
    {
      "cell_type": "markdown",
      "metadata": {
        "id": "Uh-ummzBFq3q"
      },
      "source": [
        "Load TADPOLE* dataset (csv file) from Google Drive\n",
        "-------------------------------------------------------\n",
        "*The Alzheimer's Disease Prediction Of Longitudinal Evolution\n",
        "(https://tadpole.grand-challenge.org/)\n",
        "\n",
        "### -Subjects: 1707 (1363 Train (80%) + 344 Test (20%))\n",
        "### -Features: 72\n",
        "*   2 demographic feature: MMSE, ADAS13\n",
        "*   70 mean values of cortical thickness"
      ]
    },
    {
      "cell_type": "markdown",
      "metadata": {
        "id": "i1HB0gX2F5SU"
      },
      "source": [
        "데이터 불러오기"
      ]
    },
    {
      "cell_type": "code",
      "metadata": {
        "id": "T0Xr3SiaFoPT",
        "outputId": "46d3a89a-9c38-45c1-9d62-f5284a31570f",
        "colab": {
          "base_uri": "https://localhost:8080/",
          "height": 430
        }
      },
      "source": [
        "\n",
        "csv_file_train = '/content/drive/Shared drives/learn-colab/train_data/Train_data_reupdated.csv'  # Set your path\n",
        "train_data = pd.read_csv(csv_file_train)\n",
        "train_data\n",
        "\n",
        "# DXCHANGE: clinical label (1-CN, 2-MCI, 3-AD)"
      ],
      "execution_count": null,
      "outputs": [
        {
          "output_type": "execute_result",
          "data": {
            "text/html": [
              "<div>\n",
              "<style scoped>\n",
              "    .dataframe tbody tr th:only-of-type {\n",
              "        vertical-align: middle;\n",
              "    }\n",
              "\n",
              "    .dataframe tbody tr th {\n",
              "        vertical-align: top;\n",
              "    }\n",
              "\n",
              "    .dataframe thead th {\n",
              "        text-align: right;\n",
              "    }\n",
              "</style>\n",
              "<table border=\"1\" class=\"dataframe\">\n",
              "  <thead>\n",
              "    <tr style=\"text-align: right;\">\n",
              "      <th></th>\n",
              "      <th>RID</th>\n",
              "      <th>DXCHANGE</th>\n",
              "      <th>AGE</th>\n",
              "      <th>MMSE</th>\n",
              "      <th>ADAS13</th>\n",
              "      <th>ST102TA_UCSFFSX_11_02_15_UCSFFSX51_08_01_16</th>\n",
              "      <th>ST103TA_UCSFFSX_11_02_15_UCSFFSX51_08_01_16</th>\n",
              "      <th>ST104TA_UCSFFSX_11_02_15_UCSFFSX51_08_01_16</th>\n",
              "      <th>ST105TA_UCSFFSX_11_02_15_UCSFFSX51_08_01_16</th>\n",
              "      <th>ST106TA_UCSFFSX_11_02_15_UCSFFSX51_08_01_16</th>\n",
              "      <th>ST107TA_UCSFFSX_11_02_15_UCSFFSX51_08_01_16</th>\n",
              "      <th>ST108TA_UCSFFSX_11_02_15_UCSFFSX51_08_01_16</th>\n",
              "      <th>ST109TA_UCSFFSX_11_02_15_UCSFFSX51_08_01_16</th>\n",
              "      <th>ST110TA_UCSFFSX_11_02_15_UCSFFSX51_08_01_16</th>\n",
              "      <th>ST111TA_UCSFFSX_11_02_15_UCSFFSX51_08_01_16</th>\n",
              "      <th>ST113TA_UCSFFSX_11_02_15_UCSFFSX51_08_01_16</th>\n",
              "      <th>ST114TA_UCSFFSX_11_02_15_UCSFFSX51_08_01_16</th>\n",
              "      <th>ST115TA_UCSFFSX_11_02_15_UCSFFSX51_08_01_16</th>\n",
              "      <th>ST116TA_UCSFFSX_11_02_15_UCSFFSX51_08_01_16</th>\n",
              "      <th>ST117TA_UCSFFSX_11_02_15_UCSFFSX51_08_01_16</th>\n",
              "      <th>ST118TA_UCSFFSX_11_02_15_UCSFFSX51_08_01_16</th>\n",
              "      <th>ST119TA_UCSFFSX_11_02_15_UCSFFSX51_08_01_16</th>\n",
              "      <th>ST121TA_UCSFFSX_11_02_15_UCSFFSX51_08_01_16</th>\n",
              "      <th>ST123TA_UCSFFSX_11_02_15_UCSFFSX51_08_01_16</th>\n",
              "      <th>ST129TA_UCSFFSX_11_02_15_UCSFFSX51_08_01_16</th>\n",
              "      <th>ST130TA_UCSFFSX_11_02_15_UCSFFSX51_08_01_16</th>\n",
              "      <th>ST13TA_UCSFFSX_11_02_15_UCSFFSX51_08_01_16</th>\n",
              "      <th>ST14TA_UCSFFSX_11_02_15_UCSFFSX51_08_01_16</th>\n",
              "      <th>ST15TA_UCSFFSX_11_02_15_UCSFFSX51_08_01_16</th>\n",
              "      <th>ST23TA_UCSFFSX_11_02_15_UCSFFSX51_08_01_16</th>\n",
              "      <th>ST24TA_UCSFFSX_11_02_15_UCSFFSX51_08_01_16</th>\n",
              "      <th>ST25TA_UCSFFSX_11_02_15_UCSFFSX51_08_01_16</th>\n",
              "      <th>ST26TA_UCSFFSX_11_02_15_UCSFFSX51_08_01_16</th>\n",
              "      <th>ST31TA_UCSFFSX_11_02_15_UCSFFSX51_08_01_16</th>\n",
              "      <th>ST32TA_UCSFFSX_11_02_15_UCSFFSX51_08_01_16</th>\n",
              "      <th>ST34TA_UCSFFSX_11_02_15_UCSFFSX51_08_01_16</th>\n",
              "      <th>ST35TA_UCSFFSX_11_02_15_UCSFFSX51_08_01_16</th>\n",
              "      <th>ST36TA_UCSFFSX_11_02_15_UCSFFSX51_08_01_16</th>\n",
              "      <th>ST38TA_UCSFFSX_11_02_15_UCSFFSX51_08_01_16</th>\n",
              "      <th>ST39TA_UCSFFSX_11_02_15_UCSFFSX51_08_01_16</th>\n",
              "      <th>ST40TA_UCSFFSX_11_02_15_UCSFFSX51_08_01_16</th>\n",
              "      <th>ST43TA_UCSFFSX_11_02_15_UCSFFSX51_08_01_16</th>\n",
              "      <th>ST44TA_UCSFFSX_11_02_15_UCSFFSX51_08_01_16</th>\n",
              "      <th>ST45TA_UCSFFSX_11_02_15_UCSFFSX51_08_01_16</th>\n",
              "      <th>ST46TA_UCSFFSX_11_02_15_UCSFFSX51_08_01_16</th>\n",
              "      <th>ST47TA_UCSFFSX_11_02_15_UCSFFSX51_08_01_16</th>\n",
              "      <th>ST48TA_UCSFFSX_11_02_15_UCSFFSX51_08_01_16</th>\n",
              "      <th>ST49TA_UCSFFSX_11_02_15_UCSFFSX51_08_01_16</th>\n",
              "      <th>ST50TA_UCSFFSX_11_02_15_UCSFFSX51_08_01_16</th>\n",
              "      <th>ST51TA_UCSFFSX_11_02_15_UCSFFSX51_08_01_16</th>\n",
              "      <th>ST52TA_UCSFFSX_11_02_15_UCSFFSX51_08_01_16</th>\n",
              "      <th>ST54TA_UCSFFSX_11_02_15_UCSFFSX51_08_01_16</th>\n",
              "      <th>ST55TA_UCSFFSX_11_02_15_UCSFFSX51_08_01_16</th>\n",
              "      <th>ST56TA_UCSFFSX_11_02_15_UCSFFSX51_08_01_16</th>\n",
              "      <th>ST57TA_UCSFFSX_11_02_15_UCSFFSX51_08_01_16</th>\n",
              "      <th>ST58TA_UCSFFSX_11_02_15_UCSFFSX51_08_01_16</th>\n",
              "      <th>ST59TA_UCSFFSX_11_02_15_UCSFFSX51_08_01_16</th>\n",
              "      <th>ST60TA_UCSFFSX_11_02_15_UCSFFSX51_08_01_16</th>\n",
              "      <th>ST62TA_UCSFFSX_11_02_15_UCSFFSX51_08_01_16</th>\n",
              "      <th>ST64TA_UCSFFSX_11_02_15_UCSFFSX51_08_01_16</th>\n",
              "      <th>ST72TA_UCSFFSX_11_02_15_UCSFFSX51_08_01_16</th>\n",
              "      <th>ST73TA_UCSFFSX_11_02_15_UCSFFSX51_08_01_16</th>\n",
              "      <th>ST74TA_UCSFFSX_11_02_15_UCSFFSX51_08_01_16</th>\n",
              "      <th>ST82TA_UCSFFSX_11_02_15_UCSFFSX51_08_01_16</th>\n",
              "      <th>ST83TA_UCSFFSX_11_02_15_UCSFFSX51_08_01_16</th>\n",
              "      <th>ST84TA_UCSFFSX_11_02_15_UCSFFSX51_08_01_16</th>\n",
              "      <th>ST85TA_UCSFFSX_11_02_15_UCSFFSX51_08_01_16</th>\n",
              "      <th>ST90TA_UCSFFSX_11_02_15_UCSFFSX51_08_01_16</th>\n",
              "      <th>ST91TA_UCSFFSX_11_02_15_UCSFFSX51_08_01_16</th>\n",
              "      <th>ST93TA_UCSFFSX_11_02_15_UCSFFSX51_08_01_16</th>\n",
              "      <th>ST94TA_UCSFFSX_11_02_15_UCSFFSX51_08_01_16</th>\n",
              "      <th>ST95TA_UCSFFSX_11_02_15_UCSFFSX51_08_01_16</th>\n",
              "      <th>ST97TA_UCSFFSX_11_02_15_UCSFFSX51_08_01_16</th>\n",
              "      <th>ST98TA_UCSFFSX_11_02_15_UCSFFSX51_08_01_16</th>\n",
              "      <th>ST99TA_UCSFFSX_11_02_15_UCSFFSX51_08_01_16</th>\n",
              "    </tr>\n",
              "  </thead>\n",
              "  <tbody>\n",
              "    <tr>\n",
              "      <th>0</th>\n",
              "      <td>4084</td>\n",
              "      <td>1</td>\n",
              "      <td>68.4</td>\n",
              "      <td>30</td>\n",
              "      <td>10.00</td>\n",
              "      <td>2.700</td>\n",
              "      <td>2.635</td>\n",
              "      <td>2.613</td>\n",
              "      <td>2.904</td>\n",
              "      <td>2.311</td>\n",
              "      <td>1.647</td>\n",
              "      <td>2.139</td>\n",
              "      <td>2.652</td>\n",
              "      <td>2.604</td>\n",
              "      <td>2.480</td>\n",
              "      <td>3.095</td>\n",
              "      <td>2.144</td>\n",
              "      <td>2.792</td>\n",
              "      <td>2.207</td>\n",
              "      <td>2.903</td>\n",
              "      <td>2.617</td>\n",
              "      <td>4.117</td>\n",
              "      <td>2.701</td>\n",
              "      <td></td>\n",
              "      <td>3.127</td>\n",
              "      <td>3.051</td>\n",
              "      <td>2.305</td>\n",
              "      <td>2.872</td>\n",
              "      <td>2.732</td>\n",
              "      <td>2.026</td>\n",
              "      <td>3.756</td>\n",
              "      <td>2.813</td>\n",
              "      <td>2.762</td>\n",
              "      <td>2.556</td>\n",
              "      <td>2.916</td>\n",
              "      <td>2.695</td>\n",
              "      <td>2.259</td>\n",
              "      <td>2.690</td>\n",
              "      <td>2.017</td>\n",
              "      <td>2.421</td>\n",
              "      <td>2.949</td>\n",
              "      <td>2.570</td>\n",
              "      <td>2.370</td>\n",
              "      <td>2.674</td>\n",
              "      <td>3.004</td>\n",
              "      <td>2.369</td>\n",
              "      <td>1.599</td>\n",
              "      <td>2.208</td>\n",
              "      <td>2.650</td>\n",
              "      <td>2.739</td>\n",
              "      <td>2.544</td>\n",
              "      <td>3.018</td>\n",
              "      <td>2.377</td>\n",
              "      <td>2.880</td>\n",
              "      <td>2.322</td>\n",
              "      <td>2.657</td>\n",
              "      <td>2.489</td>\n",
              "      <td>3.620</td>\n",
              "      <td>2.711</td>\n",
              "      <td></td>\n",
              "      <td>2.593</td>\n",
              "      <td>2.792</td>\n",
              "      <td>2.660</td>\n",
              "      <td>1.993</td>\n",
              "      <td>3.734</td>\n",
              "      <td>2.390</td>\n",
              "      <td>2.817</td>\n",
              "      <td>2.471</td>\n",
              "      <td>2.990</td>\n",
              "      <td>2.667</td>\n",
              "      <td>2.490</td>\n",
              "      <td>2.523</td>\n",
              "      <td>2.254</td>\n",
              "      <td>2.171</td>\n",
              "      <td>2.862</td>\n",
              "    </tr>\n",
              "    <tr>\n",
              "      <th>1</th>\n",
              "      <td>2196</td>\n",
              "      <td>2</td>\n",
              "      <td>68.2</td>\n",
              "      <td>30</td>\n",
              "      <td>13.00</td>\n",
              "      <td>2.453</td>\n",
              "      <td>2.992</td>\n",
              "      <td>2.470</td>\n",
              "      <td>2.965</td>\n",
              "      <td>2.438</td>\n",
              "      <td>1.584</td>\n",
              "      <td>1.910</td>\n",
              "      <td>2.900</td>\n",
              "      <td>2.451</td>\n",
              "      <td>2.335</td>\n",
              "      <td>2.771</td>\n",
              "      <td>2.354</td>\n",
              "      <td>2.712</td>\n",
              "      <td>2.001</td>\n",
              "      <td>2.729</td>\n",
              "      <td>2.363</td>\n",
              "      <td>3.613</td>\n",
              "      <td>2.475</td>\n",
              "      <td></td>\n",
              "      <td>3.196</td>\n",
              "      <td>3.334</td>\n",
              "      <td>2.343</td>\n",
              "      <td>2.729</td>\n",
              "      <td>2.627</td>\n",
              "      <td>1.742</td>\n",
              "      <td>3.383</td>\n",
              "      <td>2.647</td>\n",
              "      <td>2.758</td>\n",
              "      <td>2.394</td>\n",
              "      <td>2.634</td>\n",
              "      <td>2.334</td>\n",
              "      <td>2.241</td>\n",
              "      <td>2.824</td>\n",
              "      <td>1.865</td>\n",
              "      <td>2.383</td>\n",
              "      <td>2.866</td>\n",
              "      <td>2.334</td>\n",
              "      <td>2.793</td>\n",
              "      <td>2.413</td>\n",
              "      <td>2.874</td>\n",
              "      <td>2.316</td>\n",
              "      <td>1.478</td>\n",
              "      <td>1.909</td>\n",
              "      <td>2.780</td>\n",
              "      <td>2.589</td>\n",
              "      <td>2.133</td>\n",
              "      <td>3.036</td>\n",
              "      <td>2.329</td>\n",
              "      <td>2.687</td>\n",
              "      <td>2.070</td>\n",
              "      <td>2.783</td>\n",
              "      <td>2.594</td>\n",
              "      <td>3.405</td>\n",
              "      <td>2.367</td>\n",
              "      <td></td>\n",
              "      <td>2.582</td>\n",
              "      <td>2.977</td>\n",
              "      <td>2.489</td>\n",
              "      <td>1.868</td>\n",
              "      <td>3.220</td>\n",
              "      <td>2.683</td>\n",
              "      <td>2.569</td>\n",
              "      <td>2.372</td>\n",
              "      <td>2.854</td>\n",
              "      <td>2.867</td>\n",
              "      <td>2.233</td>\n",
              "      <td>2.793</td>\n",
              "      <td>1.987</td>\n",
              "      <td>2.428</td>\n",
              "      <td>2.943</td>\n",
              "    </tr>\n",
              "    <tr>\n",
              "      <th>2</th>\n",
              "      <td>657</td>\n",
              "      <td>1</td>\n",
              "      <td>77.7</td>\n",
              "      <td>29</td>\n",
              "      <td>15.33</td>\n",
              "      <td>2.249</td>\n",
              "      <td>2.296</td>\n",
              "      <td>2.315</td>\n",
              "      <td>2.681</td>\n",
              "      <td>2.420</td>\n",
              "      <td>1.386</td>\n",
              "      <td>1.830</td>\n",
              "      <td>2.466</td>\n",
              "      <td>2.327</td>\n",
              "      <td>2.193</td>\n",
              "      <td>2.415</td>\n",
              "      <td>2.270</td>\n",
              "      <td>2.559</td>\n",
              "      <td>2.008</td>\n",
              "      <td>2.495</td>\n",
              "      <td>2.418</td>\n",
              "      <td>4.210</td>\n",
              "      <td>2.167</td>\n",
              "      <td>1.08</td>\n",
              "      <td>3.362</td>\n",
              "      <td>3.077</td>\n",
              "      <td>2.648</td>\n",
              "      <td>2.759</td>\n",
              "      <td>2.442</td>\n",
              "      <td>1.717</td>\n",
              "      <td>2.886</td>\n",
              "      <td>2.380</td>\n",
              "      <td>2.737</td>\n",
              "      <td>2.402</td>\n",
              "      <td>3.012</td>\n",
              "      <td>2.418</td>\n",
              "      <td>2.056</td>\n",
              "      <td>2.805</td>\n",
              "      <td>1.950</td>\n",
              "      <td>2.318</td>\n",
              "      <td>3.025</td>\n",
              "      <td>2.270</td>\n",
              "      <td>1.831</td>\n",
              "      <td>2.507</td>\n",
              "      <td>2.908</td>\n",
              "      <td>2.335</td>\n",
              "      <td>1.389</td>\n",
              "      <td>1.765</td>\n",
              "      <td>2.397</td>\n",
              "      <td>2.187</td>\n",
              "      <td>2.188</td>\n",
              "      <td>2.889</td>\n",
              "      <td>2.318</td>\n",
              "      <td>2.504</td>\n",
              "      <td>2.028</td>\n",
              "      <td>2.657</td>\n",
              "      <td>2.309</td>\n",
              "      <td>3.880</td>\n",
              "      <td>1.832</td>\n",
              "      <td>1.1</td>\n",
              "      <td>2.338</td>\n",
              "      <td>2.343</td>\n",
              "      <td>2.363</td>\n",
              "      <td>1.601</td>\n",
              "      <td>3.683</td>\n",
              "      <td>2.786</td>\n",
              "      <td>2.385</td>\n",
              "      <td>2.365</td>\n",
              "      <td>2.784</td>\n",
              "      <td>2.415</td>\n",
              "      <td>2.252</td>\n",
              "      <td>2.583</td>\n",
              "      <td>1.850</td>\n",
              "      <td>2.488</td>\n",
              "      <td>2.828</td>\n",
              "    </tr>\n",
              "    <tr>\n",
              "      <th>3</th>\n",
              "      <td>4526</td>\n",
              "      <td>3</td>\n",
              "      <td>79.4</td>\n",
              "      <td>22</td>\n",
              "      <td>24.00</td>\n",
              "      <td>2.197</td>\n",
              "      <td>2.289</td>\n",
              "      <td>2.258</td>\n",
              "      <td>2.413</td>\n",
              "      <td>2.124</td>\n",
              "      <td>1.473</td>\n",
              "      <td>1.729</td>\n",
              "      <td>2.680</td>\n",
              "      <td>2.184</td>\n",
              "      <td>2.144</td>\n",
              "      <td>2.680</td>\n",
              "      <td>2.218</td>\n",
              "      <td>2.407</td>\n",
              "      <td>1.923</td>\n",
              "      <td>2.542</td>\n",
              "      <td>2.296</td>\n",
              "      <td>3.135</td>\n",
              "      <td>2.157</td>\n",
              "      <td></td>\n",
              "      <td>2.671</td>\n",
              "      <td>2.925</td>\n",
              "      <td>2.288</td>\n",
              "      <td>3.322</td>\n",
              "      <td>2.336</td>\n",
              "      <td>1.691</td>\n",
              "      <td>2.399</td>\n",
              "      <td>2.940</td>\n",
              "      <td>2.178</td>\n",
              "      <td>2.079</td>\n",
              "      <td>2.411</td>\n",
              "      <td>2.083</td>\n",
              "      <td>1.904</td>\n",
              "      <td>2.400</td>\n",
              "      <td>1.750</td>\n",
              "      <td>2.122</td>\n",
              "      <td>2.493</td>\n",
              "      <td>2.122</td>\n",
              "      <td>2.244</td>\n",
              "      <td>2.399</td>\n",
              "      <td>2.308</td>\n",
              "      <td>2.073</td>\n",
              "      <td>1.506</td>\n",
              "      <td>1.777</td>\n",
              "      <td>2.334</td>\n",
              "      <td>2.319</td>\n",
              "      <td>2.087</td>\n",
              "      <td>2.560</td>\n",
              "      <td>2.056</td>\n",
              "      <td>2.410</td>\n",
              "      <td>2.058</td>\n",
              "      <td>2.403</td>\n",
              "      <td>2.269</td>\n",
              "      <td>3.085</td>\n",
              "      <td>2.080</td>\n",
              "      <td></td>\n",
              "      <td>2.503</td>\n",
              "      <td>2.784</td>\n",
              "      <td>2.372</td>\n",
              "      <td>1.757</td>\n",
              "      <td>2.651</td>\n",
              "      <td>2.665</td>\n",
              "      <td>2.578</td>\n",
              "      <td>2.305</td>\n",
              "      <td>2.514</td>\n",
              "      <td>2.515</td>\n",
              "      <td>2.050</td>\n",
              "      <td>2.537</td>\n",
              "      <td>1.958</td>\n",
              "      <td>2.455</td>\n",
              "      <td>2.591</td>\n",
              "    </tr>\n",
              "    <tr>\n",
              "      <th>4</th>\n",
              "      <td>362</td>\n",
              "      <td>2</td>\n",
              "      <td>70.5</td>\n",
              "      <td>24</td>\n",
              "      <td>20.33</td>\n",
              "      <td>1.765</td>\n",
              "      <td>2.081</td>\n",
              "      <td>2.406</td>\n",
              "      <td>2.461</td>\n",
              "      <td>2.140</td>\n",
              "      <td>1.466</td>\n",
              "      <td>1.749</td>\n",
              "      <td>2.025</td>\n",
              "      <td>2.021</td>\n",
              "      <td>1.938</td>\n",
              "      <td>2.266</td>\n",
              "      <td>2.114</td>\n",
              "      <td>2.368</td>\n",
              "      <td>1.811</td>\n",
              "      <td>2.227</td>\n",
              "      <td>2.191</td>\n",
              "      <td>3.188</td>\n",
              "      <td>1.708</td>\n",
              "      <td>1.013</td>\n",
              "      <td>2.548</td>\n",
              "      <td>2.569</td>\n",
              "      <td>2.280</td>\n",
              "      <td>2.313</td>\n",
              "      <td>2.291</td>\n",
              "      <td>1.821</td>\n",
              "      <td>2.293</td>\n",
              "      <td>2.248</td>\n",
              "      <td>2.414</td>\n",
              "      <td>2.164</td>\n",
              "      <td>2.619</td>\n",
              "      <td>2.012</td>\n",
              "      <td>1.916</td>\n",
              "      <td>2.451</td>\n",
              "      <td>1.959</td>\n",
              "      <td>2.519</td>\n",
              "      <td>2.405</td>\n",
              "      <td>1.968</td>\n",
              "      <td>2.466</td>\n",
              "      <td>2.201</td>\n",
              "      <td>2.711</td>\n",
              "      <td>2.287</td>\n",
              "      <td>1.753</td>\n",
              "      <td>1.644</td>\n",
              "      <td>2.209</td>\n",
              "      <td>1.941</td>\n",
              "      <td>2.050</td>\n",
              "      <td>2.745</td>\n",
              "      <td>2.102</td>\n",
              "      <td>2.519</td>\n",
              "      <td>1.919</td>\n",
              "      <td>2.272</td>\n",
              "      <td>2.099</td>\n",
              "      <td>2.864</td>\n",
              "      <td>2.191</td>\n",
              "      <td>0.922</td>\n",
              "      <td>2.317</td>\n",
              "      <td>2.139</td>\n",
              "      <td>2.273</td>\n",
              "      <td>1.662</td>\n",
              "      <td>2.790</td>\n",
              "      <td>2.504</td>\n",
              "      <td>2.348</td>\n",
              "      <td>2.197</td>\n",
              "      <td>2.596</td>\n",
              "      <td>1.844</td>\n",
              "      <td>2.057</td>\n",
              "      <td>2.121</td>\n",
              "      <td>1.951</td>\n",
              "      <td>2.262</td>\n",
              "      <td>2.245</td>\n",
              "    </tr>\n",
              "    <tr>\n",
              "      <th>...</th>\n",
              "      <td>...</td>\n",
              "      <td>...</td>\n",
              "      <td>...</td>\n",
              "      <td>...</td>\n",
              "      <td>...</td>\n",
              "      <td>...</td>\n",
              "      <td>...</td>\n",
              "      <td>...</td>\n",
              "      <td>...</td>\n",
              "      <td>...</td>\n",
              "      <td>...</td>\n",
              "      <td>...</td>\n",
              "      <td>...</td>\n",
              "      <td>...</td>\n",
              "      <td>...</td>\n",
              "      <td>...</td>\n",
              "      <td>...</td>\n",
              "      <td>...</td>\n",
              "      <td>...</td>\n",
              "      <td>...</td>\n",
              "      <td>...</td>\n",
              "      <td>...</td>\n",
              "      <td>...</td>\n",
              "      <td>...</td>\n",
              "      <td>...</td>\n",
              "      <td>...</td>\n",
              "      <td>...</td>\n",
              "      <td>...</td>\n",
              "      <td>...</td>\n",
              "      <td>...</td>\n",
              "      <td>...</td>\n",
              "      <td>...</td>\n",
              "      <td>...</td>\n",
              "      <td>...</td>\n",
              "      <td>...</td>\n",
              "      <td>...</td>\n",
              "      <td>...</td>\n",
              "      <td>...</td>\n",
              "      <td>...</td>\n",
              "      <td>...</td>\n",
              "      <td>...</td>\n",
              "      <td>...</td>\n",
              "      <td>...</td>\n",
              "      <td>...</td>\n",
              "      <td>...</td>\n",
              "      <td>...</td>\n",
              "      <td>...</td>\n",
              "      <td>...</td>\n",
              "      <td>...</td>\n",
              "      <td>...</td>\n",
              "      <td>...</td>\n",
              "      <td>...</td>\n",
              "      <td>...</td>\n",
              "      <td>...</td>\n",
              "      <td>...</td>\n",
              "      <td>...</td>\n",
              "      <td>...</td>\n",
              "      <td>...</td>\n",
              "      <td>...</td>\n",
              "      <td>...</td>\n",
              "      <td>...</td>\n",
              "      <td>...</td>\n",
              "      <td>...</td>\n",
              "      <td>...</td>\n",
              "      <td>...</td>\n",
              "      <td>...</td>\n",
              "      <td>...</td>\n",
              "      <td>...</td>\n",
              "      <td>...</td>\n",
              "      <td>...</td>\n",
              "      <td>...</td>\n",
              "      <td>...</td>\n",
              "      <td>...</td>\n",
              "      <td>...</td>\n",
              "      <td>...</td>\n",
              "    </tr>\n",
              "    <tr>\n",
              "      <th>1358</th>\n",
              "      <td>4187</td>\n",
              "      <td>2</td>\n",
              "      <td>62.0</td>\n",
              "      <td>29</td>\n",
              "      <td>17.00</td>\n",
              "      <td>2.441</td>\n",
              "      <td>2.813</td>\n",
              "      <td>2.614</td>\n",
              "      <td>2.523</td>\n",
              "      <td>2.354</td>\n",
              "      <td>1.830</td>\n",
              "      <td>2.056</td>\n",
              "      <td>2.479</td>\n",
              "      <td>2.555</td>\n",
              "      <td>2.395</td>\n",
              "      <td>2.923</td>\n",
              "      <td>2.005</td>\n",
              "      <td>2.571</td>\n",
              "      <td>2.312</td>\n",
              "      <td>2.923</td>\n",
              "      <td>2.596</td>\n",
              "      <td>3.972</td>\n",
              "      <td>2.793</td>\n",
              "      <td></td>\n",
              "      <td>3.396</td>\n",
              "      <td>3.230</td>\n",
              "      <td>2.417</td>\n",
              "      <td>2.855</td>\n",
              "      <td>2.544</td>\n",
              "      <td>1.938</td>\n",
              "      <td>3.513</td>\n",
              "      <td>2.713</td>\n",
              "      <td>2.846</td>\n",
              "      <td>2.371</td>\n",
              "      <td>2.907</td>\n",
              "      <td>2.434</td>\n",
              "      <td>2.259</td>\n",
              "      <td>2.717</td>\n",
              "      <td>2.096</td>\n",
              "      <td>2.335</td>\n",
              "      <td>2.996</td>\n",
              "      <td>2.317</td>\n",
              "      <td>2.851</td>\n",
              "      <td>2.610</td>\n",
              "      <td>2.411</td>\n",
              "      <td>2.426</td>\n",
              "      <td>1.769</td>\n",
              "      <td>2.097</td>\n",
              "      <td>2.476</td>\n",
              "      <td>2.625</td>\n",
              "      <td>2.357</td>\n",
              "      <td>3.116</td>\n",
              "      <td>2.263</td>\n",
              "      <td>2.681</td>\n",
              "      <td>2.270</td>\n",
              "      <td>2.702</td>\n",
              "      <td>2.533</td>\n",
              "      <td>3.715</td>\n",
              "      <td>2.815</td>\n",
              "      <td></td>\n",
              "      <td>2.464</td>\n",
              "      <td>2.634</td>\n",
              "      <td>2.531</td>\n",
              "      <td>2.035</td>\n",
              "      <td>3.865</td>\n",
              "      <td>2.568</td>\n",
              "      <td>2.850</td>\n",
              "      <td>2.524</td>\n",
              "      <td>3.213</td>\n",
              "      <td>2.489</td>\n",
              "      <td>2.455</td>\n",
              "      <td>2.634</td>\n",
              "      <td>2.209</td>\n",
              "      <td>2.310</td>\n",
              "      <td>2.935</td>\n",
              "    </tr>\n",
              "    <tr>\n",
              "      <th>1359</th>\n",
              "      <td>4928</td>\n",
              "      <td>2</td>\n",
              "      <td>77.8</td>\n",
              "      <td>27</td>\n",
              "      <td>17.00</td>\n",
              "      <td>2.301</td>\n",
              "      <td>2.246</td>\n",
              "      <td>2.556</td>\n",
              "      <td>2.392</td>\n",
              "      <td>2.158</td>\n",
              "      <td>1.686</td>\n",
              "      <td>1.914</td>\n",
              "      <td>2.318</td>\n",
              "      <td>2.297</td>\n",
              "      <td>2.268</td>\n",
              "      <td>2.908</td>\n",
              "      <td>2.136</td>\n",
              "      <td>2.445</td>\n",
              "      <td>2.067</td>\n",
              "      <td>2.385</td>\n",
              "      <td>2.458</td>\n",
              "      <td>2.749</td>\n",
              "      <td>2.360</td>\n",
              "      <td></td>\n",
              "      <td>2.855</td>\n",
              "      <td>2.919</td>\n",
              "      <td>2.063</td>\n",
              "      <td>2.426</td>\n",
              "      <td>2.284</td>\n",
              "      <td>1.906</td>\n",
              "      <td>3.070</td>\n",
              "      <td>2.408</td>\n",
              "      <td>2.386</td>\n",
              "      <td>2.235</td>\n",
              "      <td>2.685</td>\n",
              "      <td>2.419</td>\n",
              "      <td>1.953</td>\n",
              "      <td>2.660</td>\n",
              "      <td>1.815</td>\n",
              "      <td>2.303</td>\n",
              "      <td>2.681</td>\n",
              "      <td>2.349</td>\n",
              "      <td>2.211</td>\n",
              "      <td>2.330</td>\n",
              "      <td>2.018</td>\n",
              "      <td>2.196</td>\n",
              "      <td>1.565</td>\n",
              "      <td>1.845</td>\n",
              "      <td>2.281</td>\n",
              "      <td>2.255</td>\n",
              "      <td>2.266</td>\n",
              "      <td>2.893</td>\n",
              "      <td>2.167</td>\n",
              "      <td>2.420</td>\n",
              "      <td>1.934</td>\n",
              "      <td>2.468</td>\n",
              "      <td>2.420</td>\n",
              "      <td>3.288</td>\n",
              "      <td>2.411</td>\n",
              "      <td></td>\n",
              "      <td>2.147</td>\n",
              "      <td>2.478</td>\n",
              "      <td>2.319</td>\n",
              "      <td>2.057</td>\n",
              "      <td>2.106</td>\n",
              "      <td>2.742</td>\n",
              "      <td>2.369</td>\n",
              "      <td>2.221</td>\n",
              "      <td>2.485</td>\n",
              "      <td>2.162</td>\n",
              "      <td>2.152</td>\n",
              "      <td>2.375</td>\n",
              "      <td>1.917</td>\n",
              "      <td>2.199</td>\n",
              "      <td>2.709</td>\n",
              "    </tr>\n",
              "    <tr>\n",
              "      <th>1360</th>\n",
              "      <td>4887</td>\n",
              "      <td>3</td>\n",
              "      <td>73.8</td>\n",
              "      <td>26</td>\n",
              "      <td>27.00</td>\n",
              "      <td>1.996</td>\n",
              "      <td>2.545</td>\n",
              "      <td>2.196</td>\n",
              "      <td>2.263</td>\n",
              "      <td>2.099</td>\n",
              "      <td>1.343</td>\n",
              "      <td>1.858</td>\n",
              "      <td>2.676</td>\n",
              "      <td>2.135</td>\n",
              "      <td>1.955</td>\n",
              "      <td>2.882</td>\n",
              "      <td>2.042</td>\n",
              "      <td>2.448</td>\n",
              "      <td>1.874</td>\n",
              "      <td>2.486</td>\n",
              "      <td>2.061</td>\n",
              "      <td>3.193</td>\n",
              "      <td>1.800</td>\n",
              "      <td></td>\n",
              "      <td>3.054</td>\n",
              "      <td>2.921</td>\n",
              "      <td>2.170</td>\n",
              "      <td>2.629</td>\n",
              "      <td>2.119</td>\n",
              "      <td>1.730</td>\n",
              "      <td>3.190</td>\n",
              "      <td>2.839</td>\n",
              "      <td>2.443</td>\n",
              "      <td>1.948</td>\n",
              "      <td>2.381</td>\n",
              "      <td>2.567</td>\n",
              "      <td>1.854</td>\n",
              "      <td>2.713</td>\n",
              "      <td>1.646</td>\n",
              "      <td>2.698</td>\n",
              "      <td>2.424</td>\n",
              "      <td>1.969</td>\n",
              "      <td>2.428</td>\n",
              "      <td>2.231</td>\n",
              "      <td>2.447</td>\n",
              "      <td>2.340</td>\n",
              "      <td>1.472</td>\n",
              "      <td>1.775</td>\n",
              "      <td>2.832</td>\n",
              "      <td>2.014</td>\n",
              "      <td>2.200</td>\n",
              "      <td>2.720</td>\n",
              "      <td>2.320</td>\n",
              "      <td>2.427</td>\n",
              "      <td>1.849</td>\n",
              "      <td>2.362</td>\n",
              "      <td>2.122</td>\n",
              "      <td>3.244</td>\n",
              "      <td>2.270</td>\n",
              "      <td></td>\n",
              "      <td>2.577</td>\n",
              "      <td>2.239</td>\n",
              "      <td>2.084</td>\n",
              "      <td>1.682</td>\n",
              "      <td>2.797</td>\n",
              "      <td>3.351</td>\n",
              "      <td>2.529</td>\n",
              "      <td>2.057</td>\n",
              "      <td>2.585</td>\n",
              "      <td>2.596</td>\n",
              "      <td>1.919</td>\n",
              "      <td>2.683</td>\n",
              "      <td>1.701</td>\n",
              "      <td>2.749</td>\n",
              "      <td>2.777</td>\n",
              "    </tr>\n",
              "    <tr>\n",
              "      <th>1361</th>\n",
              "      <td>1205</td>\n",
              "      <td>3</td>\n",
              "      <td>83.0</td>\n",
              "      <td>23</td>\n",
              "      <td>29.33</td>\n",
              "      <td>1.822</td>\n",
              "      <td>2.508</td>\n",
              "      <td>2.174</td>\n",
              "      <td>2.406</td>\n",
              "      <td>2.000</td>\n",
              "      <td>1.374</td>\n",
              "      <td>1.465</td>\n",
              "      <td>2.589</td>\n",
              "      <td>1.677</td>\n",
              "      <td>1.932</td>\n",
              "      <td>2.710</td>\n",
              "      <td>2.018</td>\n",
              "      <td>2.215</td>\n",
              "      <td>1.617</td>\n",
              "      <td>2.066</td>\n",
              "      <td>1.910</td>\n",
              "      <td>3.069</td>\n",
              "      <td>1.536</td>\n",
              "      <td>1.043</td>\n",
              "      <td>2.902</td>\n",
              "      <td>2.809</td>\n",
              "      <td>1.875</td>\n",
              "      <td>2.716</td>\n",
              "      <td>2.001</td>\n",
              "      <td>1.396</td>\n",
              "      <td>2.681</td>\n",
              "      <td>1.613</td>\n",
              "      <td>2.239</td>\n",
              "      <td>1.966</td>\n",
              "      <td>2.561</td>\n",
              "      <td>2.520</td>\n",
              "      <td>1.648</td>\n",
              "      <td>2.414</td>\n",
              "      <td>1.736</td>\n",
              "      <td>1.962</td>\n",
              "      <td>2.296</td>\n",
              "      <td>1.784</td>\n",
              "      <td>2.468</td>\n",
              "      <td>1.769</td>\n",
              "      <td>2.079</td>\n",
              "      <td>1.926</td>\n",
              "      <td>1.232</td>\n",
              "      <td>1.501</td>\n",
              "      <td>2.476</td>\n",
              "      <td>1.831</td>\n",
              "      <td>1.939</td>\n",
              "      <td>3.250</td>\n",
              "      <td>1.900</td>\n",
              "      <td>2.403</td>\n",
              "      <td>1.680</td>\n",
              "      <td>2.193</td>\n",
              "      <td>1.968</td>\n",
              "      <td>3.351</td>\n",
              "      <td>1.494</td>\n",
              "      <td>0.997</td>\n",
              "      <td>1.828</td>\n",
              "      <td>3.025</td>\n",
              "      <td>1.852</td>\n",
              "      <td>1.463</td>\n",
              "      <td>2.982</td>\n",
              "      <td>2.109</td>\n",
              "      <td>2.408</td>\n",
              "      <td>1.849</td>\n",
              "      <td>2.449</td>\n",
              "      <td>2.574</td>\n",
              "      <td>1.784</td>\n",
              "      <td>2.515</td>\n",
              "      <td>1.806</td>\n",
              "      <td>2.071</td>\n",
              "      <td>2.248</td>\n",
              "    </tr>\n",
              "    <tr>\n",
              "      <th>1362</th>\n",
              "      <td>2099</td>\n",
              "      <td>2</td>\n",
              "      <td>83.7</td>\n",
              "      <td>30</td>\n",
              "      <td>12.00</td>\n",
              "      <td>2.245</td>\n",
              "      <td>2.351</td>\n",
              "      <td>2.305</td>\n",
              "      <td>2.475</td>\n",
              "      <td>2.155</td>\n",
              "      <td>1.676</td>\n",
              "      <td>1.857</td>\n",
              "      <td>2.525</td>\n",
              "      <td>2.085</td>\n",
              "      <td>2.136</td>\n",
              "      <td>2.712</td>\n",
              "      <td>2.161</td>\n",
              "      <td>2.295</td>\n",
              "      <td>1.948</td>\n",
              "      <td>2.424</td>\n",
              "      <td>2.267</td>\n",
              "      <td>2.958</td>\n",
              "      <td>1.778</td>\n",
              "      <td></td>\n",
              "      <td>2.672</td>\n",
              "      <td>2.507</td>\n",
              "      <td>2.109</td>\n",
              "      <td>2.693</td>\n",
              "      <td>2.315</td>\n",
              "      <td>1.637</td>\n",
              "      <td>3.445</td>\n",
              "      <td>2.396</td>\n",
              "      <td>2.432</td>\n",
              "      <td>2.265</td>\n",
              "      <td>2.568</td>\n",
              "      <td>2.378</td>\n",
              "      <td>2.021</td>\n",
              "      <td>2.350</td>\n",
              "      <td>1.699</td>\n",
              "      <td>2.257</td>\n",
              "      <td>2.625</td>\n",
              "      <td>2.034</td>\n",
              "      <td>2.488</td>\n",
              "      <td>2.237</td>\n",
              "      <td>2.236</td>\n",
              "      <td>2.314</td>\n",
              "      <td>1.386</td>\n",
              "      <td>1.868</td>\n",
              "      <td>2.380</td>\n",
              "      <td>2.072</td>\n",
              "      <td>2.060</td>\n",
              "      <td>2.581</td>\n",
              "      <td>2.155</td>\n",
              "      <td>2.376</td>\n",
              "      <td>1.894</td>\n",
              "      <td>2.400</td>\n",
              "      <td>2.330</td>\n",
              "      <td>3.177</td>\n",
              "      <td>2.054</td>\n",
              "      <td></td>\n",
              "      <td>2.403</td>\n",
              "      <td>2.433</td>\n",
              "      <td>2.206</td>\n",
              "      <td>1.785</td>\n",
              "      <td>3.093</td>\n",
              "      <td>2.310</td>\n",
              "      <td>2.408</td>\n",
              "      <td>2.229</td>\n",
              "      <td>2.428</td>\n",
              "      <td>2.460</td>\n",
              "      <td>2.097</td>\n",
              "      <td>2.381</td>\n",
              "      <td>1.817</td>\n",
              "      <td>2.121</td>\n",
              "      <td>2.586</td>\n",
              "    </tr>\n",
              "  </tbody>\n",
              "</table>\n",
              "<p>1363 rows × 75 columns</p>\n",
              "</div>"
            ],
            "text/plain": [
              "       RID  ...  ST99TA_UCSFFSX_11_02_15_UCSFFSX51_08_01_16\n",
              "0     4084  ...                                       2.862\n",
              "1     2196  ...                                       2.943\n",
              "2      657  ...                                       2.828\n",
              "3     4526  ...                                       2.591\n",
              "4      362  ...                                       2.245\n",
              "...    ...  ...                                         ...\n",
              "1358  4187  ...                                       2.935\n",
              "1359  4928  ...                                       2.709\n",
              "1360  4887  ...                                       2.777\n",
              "1361  1205  ...                                       2.248\n",
              "1362  2099  ...                                       2.586\n",
              "\n",
              "[1363 rows x 75 columns]"
            ]
          },
          "metadata": {
            "tags": []
          },
          "execution_count": 3
        }
      ]
    },
    {
      "cell_type": "markdown",
      "metadata": {
        "id": "H9YXxbthGCEV"
      },
      "source": [
        "train_data.info()로 확인하니, 빠져있는 데이터도 있고(예측값인 ADAS13, cortical값 중에 1개), 실제로는 NaN값이지만 ' '로 채워진 데이터가 2개가 있었다.\n",
        "\n",
        "' '로 채워져 있어 object인 두 cortical값\n",
        "*   ST64TA_UCSFFSX_11_02_15_UCSFFSX51_08_01_16\n",
        "*   ST123TA_UCSFFSX_11_02_15_UCSFFSX51_08_01_16\n",
        "\n",
        "데이터 처리 순서\n",
        "1. object 처리 : space to NaN\n",
        "2. imputer : median으로 빠져있는 값들 채우기\n",
        "3. feature scaling - RobustScaler : cortical, age 값의 범위를 같게 맞춘다.\n",
        "\n",
        "** StandardScaler안쓰고 RobustScaler하는 이유 : 실제로 이게 더 나았음- outlier제거가 되기때문임\n",
        "\n",
        "2,3을 pipeline으로 하고, 2 전에 AD_tr(cortical값들, age),y(reg/cls)로 나누고,\n",
        "\n",
        "AD_tr만 pipeline해서 X로 만들고, y는 imputer만 한다.\n"
      ]
    },
    {
      "cell_type": "markdown",
      "metadata": {
        "id": "lxeqPNHiLa6B"
      },
      "source": [
        "1) object처리\n",
        "---"
      ]
    },
    {
      "cell_type": "code",
      "metadata": {
        "id": "Jd3Vp4OKLrEU",
        "outputId": "094c5468-1e3e-4706-f9b0-916d5825bcae",
        "colab": {
          "base_uri": "https://localhost:8080/",
          "height": 52
        }
      },
      "source": [
        "#2개의 cortical feature가 float이 아니라 object이고, ' '로 채워져있다.\n",
        "ob1 = train_data[\"ST64TA_UCSFFSX_11_02_15_UCSFFSX51_08_01_16\"]\n",
        "ob2 = train_data[\"ST123TA_UCSFFSX_11_02_15_UCSFFSX51_08_01_16\"]\n",
        "print(len(train_data[ob1.isnull()]), ob1.dtypes)\n",
        "print(len(train_data[ob2.isnull()]),ob2.dtypes)"
      ],
      "execution_count": null,
      "outputs": [
        {
          "output_type": "stream",
          "text": [
            "0 object\n",
            "0 object\n"
          ],
          "name": "stdout"
        }
      ]
    },
    {
      "cell_type": "code",
      "metadata": {
        "id": "gGK2gPstLUv1",
        "outputId": "72f8c2aa-6f89-461a-af65-1520a6688614",
        "colab": {
          "base_uri": "https://localhost:8080/",
          "height": 34
        }
      },
      "source": [
        "#그냥 ' '로 뜬다.\n",
        "train_data[\"ST64TA_UCSFFSX_11_02_15_UCSFFSX51_08_01_16\"][0]"
      ],
      "execution_count": null,
      "outputs": [
        {
          "output_type": "execute_result",
          "data": {
            "application/vnd.google.colaboratory.intrinsic+json": {
              "type": "string"
            },
            "text/plain": [
              "' '"
            ]
          },
          "metadata": {
            "tags": []
          },
          "execution_count": 5
        }
      ]
    },
    {
      "cell_type": "code",
      "metadata": {
        "id": "W2YObSwZF6-C"
      },
      "source": [
        "def object_to_float(o): #o = train_data[\"~~\"] 형태\n",
        "  for i in range(1363):\n",
        "    if o[i] == ' ':\n",
        "      o[i] = np.nan #nan으로 채움"
      ],
      "execution_count": null,
      "outputs": []
    },
    {
      "cell_type": "code",
      "metadata": {
        "id": "07BKTvJ9Li1A",
        "outputId": "dc4ef59c-4a17-48a3-87f1-47b447e5eb83",
        "colab": {
          "base_uri": "https://localhost:8080/",
          "height": 105
        }
      },
      "source": [
        "object_to_float(ob1)\n",
        "object_to_float(ob2)"
      ],
      "execution_count": null,
      "outputs": [
        {
          "output_type": "stream",
          "text": [
            "/usr/local/lib/python3.6/dist-packages/ipykernel_launcher.py:4: SettingWithCopyWarning: \n",
            "A value is trying to be set on a copy of a slice from a DataFrame\n",
            "\n",
            "See the caveats in the documentation: https://pandas.pydata.org/pandas-docs/stable/user_guide/indexing.html#returning-a-view-versus-a-copy\n",
            "  after removing the cwd from sys.path.\n"
          ],
          "name": "stderr"
        }
      ]
    },
    {
      "cell_type": "code",
      "metadata": {
        "id": "gjOoWsxVL5OF",
        "outputId": "5e87fffe-7894-4df7-bb1e-9ee9d2f252cf",
        "colab": {
          "base_uri": "https://localhost:8080/",
          "height": 52
        }
      },
      "source": [
        "print(len(train_data[ob1.isnull()]), ob1.dtypes)\n",
        "print(len(train_data[ob2.isnull()]),ob2.dtypes)"
      ],
      "execution_count": null,
      "outputs": [
        {
          "output_type": "stream",
          "text": [
            "724 object\n",
            "724 object\n"
          ],
          "name": "stdout"
        }
      ]
    },
    {
      "cell_type": "markdown",
      "metadata": {
        "id": "Leqdxx1PMAFu"
      },
      "source": [
        "**train, test set나누기\n",
        "---\n",
        "AD_train, AD_test = "
      ]
    },
    {
      "cell_type": "code",
      "metadata": {
        "id": "r74XRsriOckn"
      },
      "source": [
        "#RID는 버림\n",
        "train_data = train_data.drop(\"RID\",axis=1)"
      ],
      "execution_count": null,
      "outputs": []
    },
    {
      "cell_type": "markdown",
      "metadata": {
        "id": "1cK2I-QAbLOM"
      },
      "source": [
        "** trian, test set 나누기\n",
        "---\n",
        "train set에서 model들의 train loss와 validation loss등을 보며 model을 결정하고\n",
        "\n",
        "test set에서 마지막으로 검사해보았을 때에도 최적의 모델이라면 \n",
        "\n",
        "그 모델을 선택하고, 마지막에는 train, test set 나누기 전의 X로 최종으로 선택했던 모델로 마지막 training시킨다."
      ]
    },
    {
      "cell_type": "code",
      "metadata": {
        "id": "dh0HjDkEL_FT"
      },
      "source": [
        "from sklearn.model_selection import train_test_split\n",
        "\n",
        "AD_train, AD_test = train_test_split(train_data,test_size=0.2,random_state= 42)"
      ],
      "execution_count": null,
      "outputs": []
    },
    {
      "cell_type": "markdown",
      "metadata": {
        "id": "0xKAz8T8R1Hc"
      },
      "source": [
        "** AD_tr, y나누고, y에는 imputer\n",
        "---"
      ]
    },
    {
      "cell_type": "markdown",
      "metadata": {
        "id": "1LWik7raS1LC"
      },
      "source": [
        "RID는 버린다."
      ]
    },
    {
      "cell_type": "code",
      "metadata": {
        "id": "2T592RMMTPH6"
      },
      "source": [
        "from sklearn.impute import SimpleImputer\n",
        "imputer = SimpleImputer(strategy=\"median\")"
      ],
      "execution_count": null,
      "outputs": []
    },
    {
      "cell_type": "code",
      "metadata": {
        "id": "rksVotP_R5oU",
        "outputId": "0caea805-ad09-402c-a980-0de59e9b4954",
        "colab": {
          "base_uri": "https://localhost:8080/",
          "height": 263
        }
      },
      "source": [
        "##input 해당\n",
        "X_prepipeline = train_data.drop(\"MMSE\",axis = 1).drop(\"ADAS13\",axis = 1).drop(\"DXCHANGE\",axis = 1)\n",
        "X_train_prepipeline = AD_train.drop(\"MMSE\",axis = 1).drop(\"ADAS13\",axis = 1).drop(\"DXCHANGE\",axis = 1)\n",
        "X_test_prepipeline = AD_test.drop(\"MMSE\",axis = 1).drop(\"ADAS13\",axis = 1).drop(\"DXCHANGE\",axis = 1)\n",
        "\n",
        "#classification input\n",
        "X_plus_prepipeline = train_data.drop(\"DXCHANGE\",axis = 1)\n",
        "X_plus_train_prepipeline = AD_train.drop(\"DXCHANGE\",axis = 1)\n",
        "X_plus_test_prepipeline = AD_test.drop(\"DXCHANGE\",axis = 1)\n",
        "\n",
        "##output 해당\n",
        "AD_label_reg = DataFrame({\"MMSE\":train_data[\"MMSE\"].copy(),\n",
        "                         \"ADAS13\":train_data[\"ADAS13\"].copy()})\n",
        "AD_label_reg_tr = DataFrame({\"MMSE\":AD_train[\"MMSE\"].copy(),\n",
        "                         \"ADAS13\":AD_train[\"ADAS13\"].copy()})\n",
        "AD_label_reg_test = DataFrame({\"MMSE\":AD_test[\"MMSE\"].copy(),\n",
        "                         \"ADAS13\":AD_test[\"ADAS13\"].copy()})\n",
        "\n",
        "imputer.fit(AD_label_reg)\n",
        "temp = imputer.transform(AD_label_reg)\n",
        "y_reg = pd.DataFrame(temp, columns=AD_label_reg.columns,\n",
        "                             index=AD_label_reg.index)\n",
        "\n",
        "imputer.fit(AD_label_reg_tr)\n",
        "temp = imputer.transform(AD_label_reg_tr)\n",
        "y_reg_train = pd.DataFrame(temp, columns=AD_label_reg_tr.columns,\n",
        "                             index=AD_label_reg_tr.index)\n",
        "imputer.fit(AD_label_reg_test)\n",
        "temp = imputer.transform(AD_label_reg_test)\n",
        "y_reg_test = pd.DataFrame(temp, columns=AD_label_reg_test.columns,\n",
        "                             index=AD_label_reg_test.index)\n",
        "\n",
        "y_mmse =  DataFrame({\"MMSE\":y_reg[\"MMSE\"].copy()})\n",
        "y_mmse_train = DataFrame({\"MMSE\":y_reg_train[\"MMSE\"].copy()})\n",
        "y_mmse_test = DataFrame({\"MMSE\":y_reg_test[\"MMSE\"].copy()})\n",
        "\n",
        "y_ada =  DataFrame({\"ADAS13\":y_reg[\"ADAS13\"].copy()})\n",
        "y_ada_train = DataFrame({\"ADAS13\":y_reg_train[\"ADAS13\"].copy()})\n",
        "y_ada_test = DataFrame({\"ADAS13\":y_reg_test[\"ADAS13\"].copy()})\n",
        "\n",
        "y_cls =  DataFrame({\"DXCHANGE\":train_data[\"DXCHANGE\"]})\n",
        "y_cls_train = DataFrame({\"DXCHANGE\":AD_train[\"DXCHANGE\"]})\n",
        "y_cls_test = DataFrame({\"DXCHANGE\":AD_test[\"DXCHANGE\"]})\n",
        "\n",
        "incomplete_rows_before = AD_label_reg_tr[AD_label_reg_tr.isnull().any(axis=1)]#.head()\n",
        "incomplete_rows_after = y_reg_train[y_reg_train.isnull().any(axis=1)]\n",
        "print(\"1. before imputer:\\n\", incomplete_rows_before)\n",
        "print(\"\\n2. after imputer : \\n\", incomplete_rows_after)"
      ],
      "execution_count": null,
      "outputs": [
        {
          "output_type": "stream",
          "text": [
            "1. before imputer:\n",
            "       MMSE  ADAS13\n",
            "522     23     NaN\n",
            "25      21     NaN\n",
            "1311    18     NaN\n",
            "999     20     NaN\n",
            "426     25     NaN\n",
            "946     29     NaN\n",
            "431     22     NaN\n",
            "\n",
            "2. after imputer : \n",
            " Empty DataFrame\n",
            "Columns: [MMSE, ADAS13]\n",
            "Index: []\n"
          ],
          "name": "stdout"
        }
      ]
    },
    {
      "cell_type": "markdown",
      "metadata": {
        "id": "-quVvnc0PzUw"
      },
      "source": [
        "2) pipeline : imputer,RobustScaler\n",
        "---\n",
        "* imputer - 빈데이터 채우기\n",
        "* RobustScaler - 값 범위 같게 만들기, Standard보다는 outlier다루는데 더 괜찮을 거 같아서 이것을 썼다."
      ]
    },
    {
      "cell_type": "code",
      "metadata": {
        "id": "OjpD4AEZV4zQ"
      },
      "source": [
        "from sklearn.pipeline import Pipeline\n",
        "from sklearn.preprocessing import RobustScaler\n",
        "from sklearn.impute import SimpleImputer\n",
        "imputer = SimpleImputer(strategy=\"median\")"
      ],
      "execution_count": null,
      "outputs": []
    },
    {
      "cell_type": "code",
      "metadata": {
        "id": "ks17w2kiP4TI",
        "outputId": "43ea080a-45f4-4766-ccc6-be516f43df34",
        "colab": {
          "base_uri": "https://localhost:8080/",
          "height": 34
        }
      },
      "source": [
        "#빈데이터 모두 보기\n",
        "incomplete_rows = X_prepipeline[X_prepipeline.isnull().any(axis=1)]#.head()\n",
        "print(\"빈데이터 개수: \",len(incomplete_rows))"
      ],
      "execution_count": null,
      "outputs": [
        {
          "output_type": "stream",
          "text": [
            "빈데이터 개수:  724\n"
          ],
          "name": "stdout"
        }
      ]
    },
    {
      "cell_type": "code",
      "metadata": {
        "id": "ULsAzfZKVc_G"
      },
      "source": [
        "data_pipeline = Pipeline([\n",
        "                     ('imputer',SimpleImputer(strategy=\"median\")),\n",
        "                     ('rb_scaler',RobustScaler()),\n",
        "])"
      ],
      "execution_count": null,
      "outputs": []
    },
    {
      "cell_type": "code",
      "metadata": {
        "id": "JDuq6oD7WXkw"
      },
      "source": [
        "X = data_pipeline.fit_transform(X_prepipeline)\n",
        "X_train = data_pipeline.fit_transform(X_train_prepipeline)\n",
        "X_test = data_pipeline.fit_transform(X_test_prepipeline)\n",
        "\n",
        "X_plus = data_pipeline.fit_transform(X_plus_prepipeline)\n",
        "X_plus_train = data_pipeline.fit_transform(X_plus_train_prepipeline)\n",
        "X_plus_test = data_pipeline.fit_transform(X_plus_test_prepipeline)"
      ],
      "execution_count": null,
      "outputs": []
    },
    {
      "cell_type": "markdown",
      "metadata": {
        "id": "5Wag4XJdCGJt"
      },
      "source": [
        "# * CNN \n"
      ]
    },
    {
      "cell_type": "markdown",
      "metadata": {
        "id": "gx9RKjnjKJFa"
      },
      "source": [
        "keras 1d\n",
        "https://buomsoo-kim.github.io/keras/2018/05/16/Easy-deep-learning-with-Keras-12.md/\n",
        "\n",
        "pytorch 주가\n",
        "https://direction-f.tistory.com/19"
      ]
    },
    {
      "cell_type": "code",
      "metadata": {
        "id": "qC-FXoVKRBbc"
      },
      "source": [
        "import os\n",
        "import pandas as pd\n",
        "import numpy as np\n",
        "import matplotlib.pyplot as plt\n",
        "import csv\n",
        "\n",
        "from pandas import Series, DataFrame\n",
        "\n",
        "# Python ≥3.5 is required\n",
        "import sys\n",
        "assert sys.version_info >= (3, 5)\n",
        "\n",
        "# Scikit-Learn ≥0.20 is required\n",
        "import sklearn\n",
        "assert sklearn.__version__ >= \"0.20\"\n",
        "\n",
        "try:\n",
        "    # %tensorflow_version only exists in Colab.\n",
        "    %tensorflow_version 2.x\n",
        "except Exception:\n",
        "    pass\n",
        "\n",
        "# TensorFlow ≥2.0 is required\n",
        "import tensorflow as tf\n",
        "assert tf.__version__ >= \"2.0\"\n",
        "\n",
        "import tensorflow as tf\n",
        "from tensorflow import keras"
      ],
      "execution_count": null,
      "outputs": []
    },
    {
      "cell_type": "code",
      "metadata": {
        "id": "LoJEIyelK_rU"
      },
      "source": [
        "embedding_dimension = 100"
      ],
      "execution_count": null,
      "outputs": []
    },
    {
      "cell_type": "code",
      "metadata": {
        "id": "wHrNoxM6SG6C",
        "outputId": "de8fb4fa-54d2-48ed-9c0d-1a95d6f29622",
        "colab": {
          "base_uri": "https://localhost:8080/",
          "height": 34
        }
      },
      "source": [
        "X_train.shape"
      ],
      "execution_count": null,
      "outputs": [
        {
          "output_type": "execute_result",
          "data": {
            "text/plain": [
              "(1090, 71)"
            ]
          },
          "metadata": {
            "tags": []
          },
          "execution_count": 19
        }
      ]
    },
    {
      "cell_type": "code",
      "metadata": {
        "id": "h4JDVSMqSOEl",
        "outputId": "ef7dc006-ded7-41ad-bab2-57a77745ab09",
        "colab": {
          "base_uri": "https://localhost:8080/",
          "height": 34
        }
      },
      "source": [
        "X_plus_train = X_plus_train.reshape(X_plus_train.shape[0], X_plus_train.shape[1], 1)\n",
        "print(X_plus_train.shape)"
      ],
      "execution_count": null,
      "outputs": [
        {
          "output_type": "stream",
          "text": [
            "(1090, 73, 1)\n"
          ],
          "name": "stdout"
        }
      ]
    },
    {
      "cell_type": "code",
      "metadata": {
        "id": "nULA7T6OdWJH",
        "outputId": "2a03bad4-94ad-4609-f099-44198c6450c3",
        "colab": {
          "base_uri": "https://localhost:8080/",
          "height": 34
        }
      },
      "source": [
        "y_cls_train.shape"
      ],
      "execution_count": null,
      "outputs": [
        {
          "output_type": "execute_result",
          "data": {
            "text/plain": [
              "(1090, 1)"
            ]
          },
          "metadata": {
            "tags": []
          },
          "execution_count": 21
        }
      ]
    },
    {
      "cell_type": "code",
      "metadata": {
        "id": "cgSwLXFWc5w0"
      },
      "source": [
        "#y_cls_train = tf.keras.utils.to_categorical(y_cls_train.values - 1)\n",
        "y_cls_test = tf.keras.utils.to_categorical(y_cls_test.values - 1)"
      ],
      "execution_count": null,
      "outputs": []
    },
    {
      "cell_type": "code",
      "metadata": {
        "id": "XaiEleB6hSw4",
        "outputId": "a2647dbc-11a9-47ec-e3fa-0018ffbc855b",
        "colab": {
          "base_uri": "https://localhost:8080/",
          "height": 34
        }
      },
      "source": [
        "y_cls_train.shape"
      ],
      "execution_count": null,
      "outputs": [
        {
          "output_type": "execute_result",
          "data": {
            "text/plain": [
              "(1090, 3)"
            ]
          },
          "metadata": {
            "tags": []
          },
          "execution_count": 37
        }
      ]
    },
    {
      "cell_type": "code",
      "metadata": {
        "id": "tDUW-f6hJXzq"
      },
      "source": [
        "from keras.models import Sequential\n",
        "from keras.layers import Dense, Dropout, Activation, Conv1D, MaxPooling1D, Embedding, Flatten,AveragePooling1D, GlobalAveragePooling1D\n",
        "from keras import optimizers\n",
        "\n",
        "def cnn():\n",
        "    dropout=0.5\n",
        "    model = Sequential()\n",
        "    model.add(Conv1D(100, 10, activation=\"relu\", input_shape=(73, 1)))\n",
        "    #model.add(Conv1D(100, 10, activation=\"selu\", input_shape=(73, 1)))\n",
        "    model.add(MaxPooling1D())\n",
        "    model.add(Conv1D(50, 3, activation=\"relu\", input_shape=(73, 1)))\n",
        "    model.add(MaxPooling1D())\n",
        "\n",
        "    model.add(Flatten())\n",
        "    \n",
        "    model.add(Dense(50, activation=\"relu\"))\n",
        "    model.add(Dropout(dropout))\n",
        "    model.add(Dense(25, activation=\"relu\"))\n",
        "    model.add(Dropout(dropout))\n",
        "    model.add(Dense(3,activation='softmax'))\n",
        "\n",
        "    adam = optimizers.Adam(lr = 0.001)\n",
        "\n",
        "    model.compile(loss='categorical_crossentropy', optimizer=adam , metrics=['accuracy'])\n",
        "\n",
        "    return model\n",
        "\n",
        "model = cnn()"
      ],
      "execution_count": null,
      "outputs": []
    },
    {
      "cell_type": "code",
      "metadata": {
        "id": "fEYEsow7LjDK",
        "outputId": "530497d9-cc10-456c-8ad4-f5e9052ebe05",
        "colab": {
          "base_uri": "https://localhost:8080/",
          "height": 52
        }
      },
      "source": [
        "%%time\n",
        "history = model.fit(X_plus_train, y_cls_train, batch_size = 50, epochs = 100, validation_split = 0.2, verbose = 0)"
      ],
      "execution_count": null,
      "outputs": [
        {
          "output_type": "stream",
          "text": [
            "CPU times: user 7.82 s, sys: 903 ms, total: 8.72 s\n",
            "Wall time: 7.24 s\n"
          ],
          "name": "stdout"
        }
      ]
    },
    {
      "cell_type": "code",
      "metadata": {
        "id": "QDpH-_hibV5N",
        "outputId": "2121bfa2-4e51-4fb7-cae0-0bed926a7fe3",
        "colab": {
          "base_uri": "https://localhost:8080/",
          "height": 34
        }
      },
      "source": [
        "print(history.history.keys())"
      ],
      "execution_count": null,
      "outputs": [
        {
          "output_type": "stream",
          "text": [
            "dict_keys(['loss', 'categorical_accuracy', 'val_loss', 'val_categorical_accuracy'])\n"
          ],
          "name": "stdout"
        }
      ]
    },
    {
      "cell_type": "code",
      "metadata": {
        "id": "Lm0IRjSpLkux",
        "outputId": "dd12f51c-a69a-40ac-8630-3600b60ffbb2",
        "colab": {
          "base_uri": "https://localhost:8080/",
          "height": 265
        }
      },
      "source": [
        "plt.plot(history.history['accuracy'])\n",
        "plt.plot(history.history['val_accuracy'])\n",
        "plt.legend(['training', 'validation'], loc = 'upper left')\n",
        "plt.show()"
      ],
      "execution_count": null,
      "outputs": [
        {
          "output_type": "display_data",
          "data": {
            "image/png": "[encoded data removed]",
            "text/plain": [
              "<Figure size 432x288 with 1 Axes>"
            ]
          },
          "metadata": {
            "tags": [],
            "needs_background": "light"
          }
        }
      ]
    },
    {
      "cell_type": "code",
      "metadata": {
        "id": "glLZBSY7YzxG"
      },
      "source": [
        "X_test = X_test.reshape(X_test.shape[0], X_test.shape[1], 1)\n",
        "print(X_test.shape)"
      ],
      "execution_count": null,
      "outputs": []
    },
    {
      "cell_type": "code",
      "metadata": {
        "id": "QwwfafBzLnSW"
      },
      "source": [
        "results = model.evaluate(X_test, y_reg_test)"
      ],
      "execution_count": null,
      "outputs": []
    },
    {
      "cell_type": "code",
      "metadata": {
        "id": "iSlFTYNeLoxs"
      },
      "source": [
        "print('Test accuracy: ', results[1])"
      ],
      "execution_count": null,
      "outputs": []
    }
  ]
}